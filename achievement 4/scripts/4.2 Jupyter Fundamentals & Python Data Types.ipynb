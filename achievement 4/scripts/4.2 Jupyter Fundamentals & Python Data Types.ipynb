{
 "cells": [
  {
   "cell_type": "markdown",
   "id": "6df94c6c",
   "metadata": {},
   "source": [
    "# Jupyter Fundamentals & Python Data Types"
   ]
  },
  {
   "cell_type": "markdown",
   "id": "8a19034e",
   "metadata": {},
   "source": [
    "## Table of Contents\n",
    "\n",
    "#### Importing Libraries\n",
    "#### Data Types"
   ]
  },
  {
   "cell_type": "markdown",
   "id": "19d0c4ea",
   "metadata": {},
   "source": [
    "## Importing Libraries"
   ]
  },
  {
   "cell_type": "code",
   "execution_count": 1,
   "id": "6a629b10",
   "metadata": {},
   "outputs": [],
   "source": [
    "# Import libraries\n",
    "import pandas as pd\n",
    "import numpy as np\n",
    "import os"
   ]
  },
  {
   "cell_type": "markdown",
   "id": "8dc161ba",
   "metadata": {},
   "source": [
    "## Data Types"
   ]
  },
  {
   "cell_type": "code",
   "execution_count": 20,
   "id": "e12d5e0a",
   "metadata": {},
   "outputs": [],
   "source": [
    "# Code 3 different ways of reaching 100 by adding or subtracting\n",
    "# 1\n",
    "x=70"
   ]
  },
  {
   "cell_type": "code",
   "execution_count": 21,
   "id": "032d1c7d",
   "metadata": {},
   "outputs": [],
   "source": [
    "y=30"
   ]
  },
  {
   "cell_type": "code",
   "execution_count": 22,
   "id": "69c0476b",
   "metadata": {},
   "outputs": [
    {
     "data": {
      "text/plain": [
       "100"
      ]
     },
     "execution_count": 22,
     "metadata": {},
     "output_type": "execute_result"
    }
   ],
   "source": [
    "x+y"
   ]
  },
  {
   "cell_type": "code",
   "execution_count": 24,
   "id": "3e017231",
   "metadata": {},
   "outputs": [
    {
     "data": {
      "text/plain": [
       "100"
      ]
     },
     "execution_count": 24,
     "metadata": {},
     "output_type": "execute_result"
    }
   ],
   "source": [
    "# 2\n",
    "x+30"
   ]
  },
  {
   "cell_type": "code",
   "execution_count": 25,
   "id": "6bfe04d3",
   "metadata": {},
   "outputs": [
    {
     "data": {
      "text/plain": [
       "100"
      ]
     },
     "execution_count": 25,
     "metadata": {},
     "output_type": "execute_result"
    }
   ],
   "source": [
    "# 3\n",
    "130-y"
   ]
  },
  {
   "cell_type": "code",
   "execution_count": 26,
   "id": "176f39b1",
   "metadata": {},
   "outputs": [],
   "source": [
    "a=48.25"
   ]
  },
  {
   "cell_type": "code",
   "execution_count": 31,
   "id": "ac29659b",
   "metadata": {},
   "outputs": [],
   "source": [
    "b=21.25"
   ]
  },
  {
   "cell_type": "code",
   "execution_count": 32,
   "id": "b13c7976",
   "metadata": {},
   "outputs": [
    {
     "data": {
      "text/plain": [
       "3.764705882352941"
      ]
     },
     "execution_count": 32,
     "metadata": {},
     "output_type": "execute_result"
    }
   ],
   "source": [
    "a/b"
   ]
  },
  {
   "cell_type": "code",
   "execution_count": 34,
   "id": "e7567864",
   "metadata": {},
   "outputs": [],
   "source": [
    "c='sand'"
   ]
  },
  {
   "cell_type": "code",
   "execution_count": 35,
   "id": "b57d0b50",
   "metadata": {},
   "outputs": [],
   "source": [
    "d='castle'"
   ]
  },
  {
   "cell_type": "code",
   "execution_count": 36,
   "id": "ab028a24",
   "metadata": {},
   "outputs": [
    {
     "data": {
      "text/plain": [
       "'sandcastle'"
      ]
     },
     "execution_count": 36,
     "metadata": {},
     "output_type": "execute_result"
    }
   ],
   "source": [
    "c+d"
   ]
  },
  {
   "cell_type": "code",
   "execution_count": 37,
   "id": "19da9fc7",
   "metadata": {},
   "outputs": [],
   "source": [
    "e='Hello, '"
   ]
  },
  {
   "cell_type": "code",
   "execution_count": 38,
   "id": "086d9e26",
   "metadata": {},
   "outputs": [],
   "source": [
    "f='how are you?'"
   ]
  },
  {
   "cell_type": "code",
   "execution_count": 39,
   "id": "552651ae",
   "metadata": {},
   "outputs": [
    {
     "data": {
      "text/plain": [
       "'Hello, how are you?'"
      ]
     },
     "execution_count": 39,
     "metadata": {},
     "output_type": "execute_result"
    }
   ],
   "source": [
    "e+f"
   ]
  },
  {
   "cell_type": "code",
   "execution_count": 40,
   "id": "2c7e0806",
   "metadata": {},
   "outputs": [],
   "source": [
    "g='My name is'"
   ]
  },
  {
   "cell_type": "code",
   "execution_count": 43,
   "id": "588f1c9b",
   "metadata": {},
   "outputs": [],
   "source": [
    "h=' Isabel Gonzalez.'"
   ]
  },
  {
   "cell_type": "code",
   "execution_count": 44,
   "id": "7369150c",
   "metadata": {},
   "outputs": [
    {
     "data": {
      "text/plain": [
       "'My name is Isabel Gonzalez.'"
      ]
     },
     "execution_count": 44,
     "metadata": {},
     "output_type": "execute_result"
    }
   ],
   "source": [
    "g+h"
   ]
  },
  {
   "cell_type": "code",
   "execution_count": 45,
   "id": "a65e5426",
   "metadata": {},
   "outputs": [
    {
     "data": {
      "text/plain": [
       "'sandsandsandsandsandsandsandsandsandsandsandsandsandsandsandsandsandsandsandsandsandsandsandsandsandsandsandsandsandsandsandsandsandsandsandsandsandsandsandsandsandsandsandsandsandsandsandsandsandsandsandsandsandsandsandsandsandsandsandsandsandsandsandsandsandsandsandsandsandsandsandsandsandsandsandsandsandsandsandsandsandsandsandsandsandsandsandsandsandsandsandsandsandsandsandsandsandsandsandsand'"
      ]
     },
     "execution_count": 45,
     "metadata": {},
     "output_type": "execute_result"
    }
   ],
   "source": [
    "# Bonus Task - Create a command that makes a string appear 100 times\n",
    "c*100"
   ]
  }
 ],
 "metadata": {
  "kernelspec": {
   "display_name": "Python 3 (ipykernel)",
   "language": "python",
   "name": "python3"
  },
  "language_info": {
   "codemirror_mode": {
    "name": "ipython",
    "version": 3
   },
   "file_extension": ".py",
   "mimetype": "text/x-python",
   "name": "python",
   "nbconvert_exporter": "python",
   "pygments_lexer": "ipython3",
   "version": "3.9.12"
  }
 },
 "nbformat": 4,
 "nbformat_minor": 5
}
