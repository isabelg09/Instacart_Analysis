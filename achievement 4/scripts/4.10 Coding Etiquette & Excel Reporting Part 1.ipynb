{
 "cells": [
  {
   "cell_type": "markdown",
   "id": "041c6480",
   "metadata": {},
   "source": [
    "# 4.10 Coding Etiquette & Excel Reporting Part 1"
   ]
  },
  {
   "cell_type": "markdown",
   "id": "99e0126c",
   "metadata": {},
   "source": [
    "## Table of Contents:\n",
    "\n",
    "### 1. Importing Libraries and Data\n",
    "### 2. PII Concerns\n",
    "### 3. Spending habits between the different U.S. regions.\n",
    "### 4. Create an exclusion flag for low-activity customers\n",
    "### 5. Exclude low-activity customers from the data\n",
    "### 6. Create a profiling variable based on age, income, certain goods in the “department_id” column, and number of dependents. \n",
    "### 7. Create an appropriate visualization to show the distribution of profiles.\n",
    "### 8. Aggregate the max, mean, and min variables on a customer-profile level for usage frequency and expenditure.\n",
    "### 9. Compare your customer profiles with regions and departments. Can you identify a link between them?\n",
    "### 10. Exporting Data"
   ]
  },
  {
   "cell_type": "markdown",
   "id": "7d23d4ba",
   "metadata": {},
   "source": [
    "## 1. Importing Libraries and Data"
   ]
  },
  {
   "cell_type": "code",
   "execution_count": 8,
   "id": "ba7142b3",
   "metadata": {},
   "outputs": [],
   "source": [
    "import pandas as pd\n",
    "import numpy as np\n",
    "import os\n",
    "import matplotlib.pyplot as plt\n",
    "import seaborn as sns\n",
    "import scipy"
   ]
  },
  {
   "cell_type": "code",
   "execution_count": 9,
   "id": "b3b6a680",
   "metadata": {},
   "outputs": [],
   "source": [
    "path=r'/Users/isabelgonzalez/Desktop/achievement 4'"
   ]
  },
  {
   "cell_type": "code",
   "execution_count": 10,
   "id": "2d4128bc",
   "metadata": {},
   "outputs": [],
   "source": [
    "df=pd.read_pickle(os.path.join(path, 'data', 'prepared data', 'full_instacart_data.pkl'))"
   ]
  },
  {
   "cell_type": "code",
   "execution_count": 11,
   "id": "fc12e565",
   "metadata": {},
   "outputs": [],
   "source": [
    "df_departments = pd.read_csv(os.path.join(path,'data', 'prepared Data', 'departments_wrangled.csv'), index_col = False)"
   ]
  },
  {
   "cell_type": "markdown",
   "id": "f83c241a",
   "metadata": {},
   "source": [
    "## 2. PII Concerns"
   ]
  },
  {
   "cell_type": "code",
   "execution_count": 12,
   "id": "325684e3",
   "metadata": {},
   "outputs": [
    {
     "data": {
      "text/plain": [
       "Index(['order_id', 'user_id', 'order_number', 'orders_day_of_week',\n",
       "       'order_hour_of_day', 'days_since_prior_order', 'one_time_customer',\n",
       "       'product_id', 'add_to_cart_order', 'reordered', 'product_name',\n",
       "       'aisle_id', 'department_id', 'prices', '_merge', 'Busiest_day',\n",
       "       'price_range', 'busiest_days', 'busiest_period_of_day', 'max_order',\n",
       "       'loyalty_flag', 'mean_order', 'avg_spent', 'mean_price_for_orders',\n",
       "       'spending_flag', 'median_of_days_since_prior_order',\n",
       "       'order_frequency_flag', 'first_name', 'last_name', 'gender', 'state',\n",
       "       'age', 'date_joined', 'no_of_dependants', 'marital_status', 'income'],\n",
       "      dtype='object')"
      ]
     },
     "execution_count": 12,
     "metadata": {},
     "output_type": "execute_result"
    }
   ],
   "source": [
    "# looking for PII columns \n",
    "df.columns"
   ]
  },
  {
   "cell_type": "code",
   "execution_count": 13,
   "id": "44c0c34c",
   "metadata": {},
   "outputs": [
    {
     "data": {
      "text/plain": [
       "(32404859, 36)"
      ]
     },
     "execution_count": 13,
     "metadata": {},
     "output_type": "execute_result"
    }
   ],
   "source": [
    "df.shape"
   ]
  },
  {
   "cell_type": "code",
   "execution_count": 14,
   "id": "d071ec6d",
   "metadata": {},
   "outputs": [],
   "source": [
    "#drop first_name and last_name for customer privacy, and _merge for saving space\n",
    "df2 = df.drop(columns = ['first_name', 'last_name', '_merge'])"
   ]
  },
  {
   "cell_type": "markdown",
   "id": "c3578de3",
   "metadata": {},
   "source": [
    "## 3. Spending habits between the different U.S. regions."
   ]
  },
  {
   "cell_type": "code",
   "execution_count": 15,
   "id": "a5d2af25",
   "metadata": {},
   "outputs": [],
   "source": [
    "# creating region with all appropriate states\n",
    "northeast = ['Maine', 'New Hampshire', 'Vermont', 'Massachusetts', 'Rhode Island', \n",
    "             'Connecticut', 'New York', 'Pennsylvania', 'New Jersey']\n",
    "midwest = ['Wisconsin', 'Michigan', 'Illinois', 'Indiana', 'Ohio',\n",
    "          'North Dakota', 'South Dakota', 'Nebraska', 'Kansas',\n",
    "          'Minnesota', 'Iowa', 'Missouri']\n",
    "south = ['Delaware', 'Maryland', 'District of Columbia', 'Virginia', 'West Virginia',\n",
    "         'North Carolina', 'South Carolina', 'Georgia', 'Florida', 'Kentucky', 'Tennessee',\n",
    "         'Mississippi', 'Alabama', 'Oklahoma', 'Texas', 'Arkansas', 'Louisiana']\n",
    "west = ['Idaho', 'Montana', 'Wyoming', 'Nevada', 'Utah', 'Colorado', 'Arizona',\n",
    "        'New Mexico', 'Alaska', 'Washington', 'Oregon', 'California', 'Hawaii']"
   ]
  },
  {
   "cell_type": "code",
   "execution_count": 16,
   "id": "22461436",
   "metadata": {},
   "outputs": [],
   "source": [
    "#loop for region column\n",
    "result=[]\n",
    "\n",
    "for value in df2['state']:\n",
    "    if value in northeast:\n",
    "        result.append('Northeast')\n",
    "    elif value in midwest:\n",
    "        result.append('Midwest')\n",
    "    elif value in south:\n",
    "        result.append('South')\n",
    "    else:\n",
    "        result.append('West')"
   ]
  },
  {
   "cell_type": "code",
   "execution_count": 17,
   "id": "01183b04",
   "metadata": {},
   "outputs": [],
   "source": [
    "#including column in dataset\n",
    "df2['region'] = result"
   ]
  },
  {
   "cell_type": "code",
   "execution_count": 18,
   "id": "3334ff18",
   "metadata": {},
   "outputs": [
    {
     "data": {
      "text/plain": [
       "South        10791885\n",
       "West          8292913\n",
       "Midwest       7597325\n",
       "Northeast     5722736\n",
       "Name: region, dtype: int64"
      ]
     },
     "execution_count": 18,
     "metadata": {},
     "output_type": "execute_result"
    }
   ],
   "source": [
    "#checking values\n",
    "df2['region'].value_counts()"
   ]
  },
  {
   "cell_type": "code",
   "execution_count": 19,
   "id": "a575211f",
   "metadata": {},
   "outputs": [
    {
     "data": {
      "text/html": [
       "<div>\n",
       "<style scoped>\n",
       "    .dataframe tbody tr th:only-of-type {\n",
       "        vertical-align: middle;\n",
       "    }\n",
       "\n",
       "    .dataframe tbody tr th {\n",
       "        vertical-align: top;\n",
       "    }\n",
       "\n",
       "    .dataframe thead tr th {\n",
       "        text-align: left;\n",
       "    }\n",
       "\n",
       "    .dataframe thead tr:last-of-type th {\n",
       "        text-align: right;\n",
       "    }\n",
       "</style>\n",
       "<table border=\"1\" class=\"dataframe\">\n",
       "  <thead>\n",
       "    <tr>\n",
       "      <th></th>\n",
       "      <th>prices</th>\n",
       "    </tr>\n",
       "    <tr>\n",
       "      <th></th>\n",
       "      <th>sum</th>\n",
       "    </tr>\n",
       "    <tr>\n",
       "      <th>region</th>\n",
       "      <th></th>\n",
       "    </tr>\n",
       "  </thead>\n",
       "  <tbody>\n",
       "    <tr>\n",
       "      <th>Midwest</th>\n",
       "      <td>59192977.7</td>\n",
       "    </tr>\n",
       "    <tr>\n",
       "      <th>Northeast</th>\n",
       "      <td>44530105.8</td>\n",
       "    </tr>\n",
       "    <tr>\n",
       "      <th>South</th>\n",
       "      <td>84107910.4</td>\n",
       "    </tr>\n",
       "    <tr>\n",
       "      <th>West</th>\n",
       "      <td>64595126.7</td>\n",
       "    </tr>\n",
       "  </tbody>\n",
       "</table>\n",
       "</div>"
      ],
      "text/plain": [
       "               prices\n",
       "                  sum\n",
       "region               \n",
       "Midwest    59192977.7\n",
       "Northeast  44530105.8\n",
       "South      84107910.4\n",
       "West       64595126.7"
      ]
     },
     "execution_count": 19,
     "metadata": {},
     "output_type": "execute_result"
    }
   ],
   "source": [
    "# spending habits between the different U.S. regions\n",
    "df2.groupby('region').agg({'prices': ['sum']})"
   ]
  },
  {
   "cell_type": "markdown",
   "id": "d2f3fb59",
   "metadata": {},
   "source": [
    "The south spends the most and the northeast spends the least."
   ]
  },
  {
   "cell_type": "code",
   "execution_count": 20,
   "id": "b1e2fb14",
   "metadata": {},
   "outputs": [],
   "source": [
    "# cross checking region and spending_flag columns\n",
    "crosstab = pd.crosstab(df2['region'], df2['spending_flag'], dropna = False)"
   ]
  },
  {
   "cell_type": "code",
   "execution_count": 21,
   "id": "ac31c158",
   "metadata": {
    "scrolled": true
   },
   "outputs": [
    {
     "data": {
      "text/html": [
       "<div>\n",
       "<style scoped>\n",
       "    .dataframe tbody tr th:only-of-type {\n",
       "        vertical-align: middle;\n",
       "    }\n",
       "\n",
       "    .dataframe tbody tr th {\n",
       "        vertical-align: top;\n",
       "    }\n",
       "\n",
       "    .dataframe thead th {\n",
       "        text-align: right;\n",
       "    }\n",
       "</style>\n",
       "<table border=\"1\" class=\"dataframe\">\n",
       "  <thead>\n",
       "    <tr style=\"text-align: right;\">\n",
       "      <th>spending_flag</th>\n",
       "      <th>High Spender</th>\n",
       "      <th>Low Spender</th>\n",
       "    </tr>\n",
       "    <tr>\n",
       "      <th>region</th>\n",
       "      <th></th>\n",
       "      <th></th>\n",
       "    </tr>\n",
       "  </thead>\n",
       "  <tbody>\n",
       "    <tr>\n",
       "      <th>Midwest</th>\n",
       "      <td>155975</td>\n",
       "      <td>7441350</td>\n",
       "    </tr>\n",
       "    <tr>\n",
       "      <th>Northeast</th>\n",
       "      <td>108225</td>\n",
       "      <td>5614511</td>\n",
       "    </tr>\n",
       "    <tr>\n",
       "      <th>South</th>\n",
       "      <td>209691</td>\n",
       "      <td>10582194</td>\n",
       "    </tr>\n",
       "    <tr>\n",
       "      <th>West</th>\n",
       "      <td>160354</td>\n",
       "      <td>8132559</td>\n",
       "    </tr>\n",
       "  </tbody>\n",
       "</table>\n",
       "</div>"
      ],
      "text/plain": [
       "spending_flag  High Spender  Low Spender\n",
       "region                                  \n",
       "Midwest              155975      7441350\n",
       "Northeast            108225      5614511\n",
       "South                209691     10582194\n",
       "West                 160354      8132559"
      ]
     },
     "execution_count": 21,
     "metadata": {},
     "output_type": "execute_result"
    }
   ],
   "source": [
    "crosstab"
   ]
  },
  {
   "cell_type": "markdown",
   "id": "ee0ae628",
   "metadata": {},
   "source": [
    "## 4. Create an exclusion flag for low-activity customers"
   ]
  },
  {
   "cell_type": "code",
   "execution_count": 22,
   "id": "d4236ef9",
   "metadata": {},
   "outputs": [],
   "source": [
    "# creating execution flag for low activity customers\n",
    "df2.loc[df2['max_order'] < 5, 'exclusion_flag'] = 'Low Activity Customer'"
   ]
  },
  {
   "cell_type": "code",
   "execution_count": 23,
   "id": "3cd9faba",
   "metadata": {},
   "outputs": [],
   "source": [
    "# creating execution flag for regular customers\n",
    "df2.loc[df2['max_order'] >= 5, 'exclusion_flag'] = 'Regular Customer'"
   ]
  },
  {
   "cell_type": "code",
   "execution_count": 24,
   "id": "1504a776",
   "metadata": {
    "scrolled": true
   },
   "outputs": [
    {
     "data": {
      "text/plain": [
       "Regular Customer         30964564\n",
       "Low Activity Customer     1440295\n",
       "Name: exclusion_flag, dtype: int64"
      ]
     },
     "execution_count": 24,
     "metadata": {},
     "output_type": "execute_result"
    }
   ],
   "source": [
    "# checking values\n",
    "df2['exclusion_flag'].value_counts(dropna=False)"
   ]
  },
  {
   "cell_type": "markdown",
   "id": "eb81da8c",
   "metadata": {},
   "source": [
    "## 5. Exclude low-activity customers from the data"
   ]
  },
  {
   "cell_type": "code",
   "execution_count": 25,
   "id": "a48191ab",
   "metadata": {},
   "outputs": [],
   "source": [
    "#excluding low-activity customers\n",
    "df_low_act = df2[df2['exclusion_flag']== 'Low Activity Customer']"
   ]
  },
  {
   "cell_type": "code",
   "execution_count": 26,
   "id": "8c668137",
   "metadata": {},
   "outputs": [
    {
     "data": {
      "text/plain": [
       "(1440295, 35)"
      ]
     },
     "execution_count": 26,
     "metadata": {},
     "output_type": "execute_result"
    }
   ],
   "source": [
    "# checking to see if the values match up\n",
    "df_low_act.shape"
   ]
  },
  {
   "cell_type": "code",
   "execution_count": 27,
   "id": "ec585c23",
   "metadata": {
    "scrolled": true
   },
   "outputs": [
    {
     "data": {
      "text/plain": [
       "Low Activity Customer    1440295\n",
       "Name: exclusion_flag, dtype: int64"
      ]
     },
     "execution_count": 27,
     "metadata": {},
     "output_type": "execute_result"
    }
   ],
   "source": [
    "# checking to see if the values match up\n",
    "df_low_act['exclusion_flag'].value_counts(dropna=False)"
   ]
  },
  {
   "cell_type": "code",
   "execution_count": 28,
   "id": "6797961b",
   "metadata": {},
   "outputs": [],
   "source": [
    "#excluding regular customers\n",
    "df_reg_cust = df2[df2['exclusion_flag']== 'Regular Customer'].copy()"
   ]
  },
  {
   "cell_type": "code",
   "execution_count": 29,
   "id": "733f29fa",
   "metadata": {},
   "outputs": [
    {
     "data": {
      "text/plain": [
       "(30964564, 35)"
      ]
     },
     "execution_count": 29,
     "metadata": {},
     "output_type": "execute_result"
    }
   ],
   "source": [
    "# checking to see if the values match up\n",
    "df_reg_cust.shape"
   ]
  },
  {
   "cell_type": "code",
   "execution_count": 30,
   "id": "be7debc1",
   "metadata": {},
   "outputs": [
    {
     "data": {
      "text/plain": [
       "Regular Customer    30964564\n",
       "Name: exclusion_flag, dtype: int64"
      ]
     },
     "execution_count": 30,
     "metadata": {},
     "output_type": "execute_result"
    }
   ],
   "source": [
    "# checking to see if the values match up\n",
    "df_reg_cust['exclusion_flag'].value_counts(dropna=False)"
   ]
  },
  {
   "cell_type": "code",
   "execution_count": 31,
   "id": "2b2354f2",
   "metadata": {},
   "outputs": [],
   "source": [
    "# exporting dfs\n",
    "df_low_act.to_pickle(os.path.join(path, 'data','prepared Data', '4.10_low_activity_customers_sample.pkl'))\n",
    "df_reg_cust.to_pickle(os.path.join(path, 'data','prepared Data', '4.10_reg_customers_sample.pkl'))"
   ]
  },
  {
   "cell_type": "code",
   "execution_count": 32,
   "id": "a94653e6",
   "metadata": {},
   "outputs": [],
   "source": [
    "df3 = df_reg_cust"
   ]
  },
  {
   "cell_type": "markdown",
   "id": "d4430d6b",
   "metadata": {},
   "source": [
    "## 6. Create a profiling variable based on age, income, certain goods in the “department_id” column, and number of dependents. "
   ]
  },
  {
   "cell_type": "markdown",
   "id": "c807c70c",
   "metadata": {},
   "source": [
    "### Age"
   ]
  },
  {
   "cell_type": "code",
   "execution_count": 33,
   "id": "110fe2ae",
   "metadata": {},
   "outputs": [],
   "source": [
    "# creating profiling variables for the age column\n",
    "# Young Adult ranges from 18-24\n",
    "df3.loc[(df3['age'] >18) & (df3['age'] <= 24), 'age_group'] = 'Young Adult'"
   ]
  },
  {
   "cell_type": "code",
   "execution_count": 34,
   "id": "e2b1e00b",
   "metadata": {},
   "outputs": [],
   "source": [
    "# Adult ranges from 24-64\n",
    "df3.loc[(df3['age'] > 24) & (df3['age'] <=64), 'age_group'] = 'Adult'"
   ]
  },
  {
   "cell_type": "code",
   "execution_count": 35,
   "id": "17255e80",
   "metadata": {},
   "outputs": [],
   "source": [
    "# Senior ranges from 65 and above\n",
    "df3.loc[df3['age'] >=65, 'age_group'] = 'Senior'"
   ]
  },
  {
   "cell_type": "code",
   "execution_count": 36,
   "id": "fd0deffd",
   "metadata": {
    "scrolled": true
   },
   "outputs": [
    {
     "data": {
      "text/plain": [
       "Adult          19353826\n",
       "Senior          8195544\n",
       "Young Adult     2936737\n",
       "Name: age_group, dtype: int64"
      ]
     },
     "execution_count": 36,
     "metadata": {},
     "output_type": "execute_result"
    }
   ],
   "source": [
    "# checking counts\n",
    "df3['age_group'].value_counts()"
   ]
  },
  {
   "cell_type": "markdown",
   "id": "afe76145",
   "metadata": {},
   "source": [
    "### Income"
   ]
  },
  {
   "cell_type": "code",
   "execution_count": 56,
   "id": "e83d2220",
   "metadata": {},
   "outputs": [],
   "source": [
    "# creating profiling variables for the Income column\n",
    "#Low income ranges from 0-53,000\n",
    "df3.loc[df3['income'] < 53000, 'income_class'] = 'Low Income'"
   ]
  },
  {
   "cell_type": "code",
   "execution_count": 57,
   "id": "42fc4fe2",
   "metadata": {},
   "outputs": [],
   "source": [
    "#Middle income ranges from 53,000-110000\n",
    "df3.loc[(df3['income'] >= 53000) & (df3['income'] < 110000), 'income_class'] = 'Middle Income'"
   ]
  },
  {
   "cell_type": "code",
   "execution_count": 58,
   "id": "47c3cf9b",
   "metadata": {},
   "outputs": [],
   "source": [
    "#High income ranges from 110000 and above\n",
    "df3.loc[df3['income'] >= 110000, 'income_class'] = 'High Income'"
   ]
  },
  {
   "cell_type": "code",
   "execution_count": 59,
   "id": "770d818f",
   "metadata": {
    "scrolled": true
   },
   "outputs": [
    {
     "data": {
      "text/plain": [
       "Middle Income    15485073\n",
       "High Income      11570460\n",
       "Low Income        3909031\n",
       "Name: income_class, dtype: int64"
      ]
     },
     "execution_count": 59,
     "metadata": {},
     "output_type": "execute_result"
    }
   ],
   "source": [
    "# checking counts\n",
    "df3['income_class'].value_counts()"
   ]
  },
  {
   "cell_type": "markdown",
   "id": "e15eff73",
   "metadata": {},
   "source": [
    "### Dependants"
   ]
  },
  {
   "cell_type": "code",
   "execution_count": 33,
   "id": "cb865edb",
   "metadata": {},
   "outputs": [],
   "source": [
    "# creating profiling variables for the Income column\n",
    "df3.loc[df3['no_of_dependants'] == 0, 'dependant_flag'] = 'No dependants'"
   ]
  },
  {
   "cell_type": "code",
   "execution_count": 34,
   "id": "550c8821",
   "metadata": {},
   "outputs": [],
   "source": [
    "#customers with more than 0 dependents are parents\n",
    "df3.loc[df3['no_of_dependants'] > 0, 'dependant_flag'] = 'Parent'"
   ]
  },
  {
   "cell_type": "code",
   "execution_count": 35,
   "id": "4f540a63",
   "metadata": {
    "scrolled": true
   },
   "outputs": [
    {
     "data": {
      "text/plain": [
       "Parent           23224883\n",
       "No dependants     7739681\n",
       "Name: dependant_flag, dtype: int64"
      ]
     },
     "execution_count": 35,
     "metadata": {},
     "output_type": "execute_result"
    }
   ],
   "source": [
    "# checking values\n",
    "df3['dependant_flag'].value_counts()"
   ]
  },
  {
   "cell_type": "markdown",
   "id": "a97be8a0",
   "metadata": {},
   "source": [
    "### Department_id"
   ]
  },
  {
   "cell_type": "code",
   "execution_count": 36,
   "id": "07a1426a",
   "metadata": {},
   "outputs": [],
   "source": [
    "#merging department df\n",
    "df4 = df3.merge(df_departments, how = 'inner', left_on='department_id', right_index=True) "
   ]
  },
  {
   "cell_type": "code",
   "execution_count": 37,
   "id": "4751aae4",
   "metadata": {},
   "outputs": [
    {
     "name": "stdout",
     "output_type": "stream",
     "text": [
      "['pets' 'household' 'deli' 'babies' 'alcohol' 'canned goods' 'breakfast'\n",
      " 'produce' 'other' 'bulk' 'dairy eggs' 'meat seafood' 'pantry' 'missing'\n",
      " 'beverages' 'international' 'dry goods pasta' 'snacks' 'bakery'\n",
      " 'personal care']\n"
     ]
    }
   ],
   "source": [
    "print(df4['department'].unique())"
   ]
  },
  {
   "cell_type": "code",
   "execution_count": 38,
   "id": "8fec0617",
   "metadata": {},
   "outputs": [],
   "source": [
    "# identify all the products purchased from the pet department\n",
    "df4['pets'] = ['pet owner' if x == 'pets' else 'no pets' for x in df4['department']]"
   ]
  },
  {
   "cell_type": "code",
   "execution_count": 39,
   "id": "2ab523a0",
   "metadata": {},
   "outputs": [
    {
     "data": {
      "text/plain": [
       "no pets      28327895\n",
       "pet owner     2571901\n",
       "Name: pets, dtype: int64"
      ]
     },
     "execution_count": 39,
     "metadata": {},
     "output_type": "execute_result"
    }
   ],
   "source": [
    "# check values\n",
    "df4['pets'].value_counts()"
   ]
  },
  {
   "cell_type": "code",
   "execution_count": 40,
   "id": "6ef39a5e",
   "metadata": {},
   "outputs": [],
   "source": [
    "# identify all the products purchased from the baby department\n",
    "df4['baby'] = ['parent' if x == 'babies' else 'not a parent' for x in df4['department']]"
   ]
  },
  {
   "cell_type": "code",
   "execution_count": 41,
   "id": "51c1d64e",
   "metadata": {},
   "outputs": [
    {
     "data": {
      "text/plain": [
       "not a parent    30199939\n",
       "parent            699857\n",
       "Name: baby, dtype: int64"
      ]
     },
     "execution_count": 41,
     "metadata": {},
     "output_type": "execute_result"
    }
   ],
   "source": [
    "# check values\n",
    "df4['baby'].value_counts()"
   ]
  },
  {
   "cell_type": "code",
   "execution_count": 42,
   "id": "7df6cb32",
   "metadata": {},
   "outputs": [
    {
     "data": {
      "text/plain": [
       "(30899796, 42)"
      ]
     },
     "execution_count": 42,
     "metadata": {},
     "output_type": "execute_result"
    }
   ],
   "source": [
    "# make sure rows adds up\n",
    "df4.shape"
   ]
  },
  {
   "cell_type": "markdown",
   "id": "77e96d6d",
   "metadata": {},
   "source": [
    "## 7. Create an appropriate visualization to show the distribution of profiles."
   ]
  },
  {
   "cell_type": "code",
   "execution_count": 43,
   "id": "e4366d5d",
   "metadata": {},
   "outputs": [
    {
     "data": {
      "image/png": "[encoded data removed]",
      "text/plain": [
       "<Figure size 432x288 with 1 Axes>"
      ]
     },
     "metadata": {
      "needs_background": "light"
     },
     "output_type": "display_data"
    }
   ],
   "source": [
    "# bar chart for age groups\n",
    "age_bar=df4['age_group'].value_counts().plot.bar()"
   ]
  },
  {
   "cell_type": "code",
   "execution_count": 60,
   "id": "af54cb88",
   "metadata": {},
   "outputs": [
    {
     "ename": "NameError",
     "evalue": "name 'df4' is not defined",
     "output_type": "error",
     "traceback": [
      "\u001b[0;31m---------------------------------------------------------------------------\u001b[0m",
      "\u001b[0;31mNameError\u001b[0m                                 Traceback (most recent call last)",
      "Input \u001b[0;32mIn [60]\u001b[0m, in \u001b[0;36m<cell line: 2>\u001b[0;34m()\u001b[0m\n\u001b[1;32m      1\u001b[0m \u001b[38;5;66;03m# bar chart for income class\u001b[39;00m\n\u001b[0;32m----> 2\u001b[0m income_bar\u001b[38;5;241m=\u001b[39m\u001b[43mdf4\u001b[49m[\u001b[38;5;124m'\u001b[39m\u001b[38;5;124mincome_class\u001b[39m\u001b[38;5;124m'\u001b[39m]\u001b[38;5;241m.\u001b[39mvalue_counts()\u001b[38;5;241m.\u001b[39mplot\u001b[38;5;241m.\u001b[39mbar()\n",
      "\u001b[0;31mNameError\u001b[0m: name 'df4' is not defined"
     ]
    }
   ],
   "source": [
    "# bar chart for income class\n",
    "income_bar=df4['income_class'].value_counts().plot.bar()"
   ]
  },
  {
   "cell_type": "code",
   "execution_count": 45,
   "id": "37016ed9",
   "metadata": {
    "scrolled": true
   },
   "outputs": [
    {
     "data": {
      "image/png": "[encoded data removed]",
      "text/plain": [
       "<Figure size 432x288 with 1 Axes>"
      ]
     },
     "metadata": {
      "needs_background": "light"
     },
     "output_type": "display_data"
    }
   ],
   "source": [
    "# bar chart for dependants\n",
    "dependant_bar=df4['dependant_flag'].value_counts().plot.bar()"
   ]
  },
  {
   "cell_type": "markdown",
   "id": "f768ad6a",
   "metadata": {},
   "source": [
    "## 8. Aggregate the max, mean, and min variables on a customer-profile level for usage frequency and expenditure."
   ]
  },
  {
   "cell_type": "code",
   "execution_count": 46,
   "id": "d7559e83",
   "metadata": {},
   "outputs": [
    {
     "data": {
      "text/html": [
       "<div>\n",
       "<style scoped>\n",
       "    .dataframe tbody tr th:only-of-type {\n",
       "        vertical-align: middle;\n",
       "    }\n",
       "\n",
       "    .dataframe tbody tr th {\n",
       "        vertical-align: top;\n",
       "    }\n",
       "\n",
       "    .dataframe thead tr th {\n",
       "        text-align: left;\n",
       "    }\n",
       "\n",
       "    .dataframe thead tr:last-of-type th {\n",
       "        text-align: right;\n",
       "    }\n",
       "</style>\n",
       "<table border=\"1\" class=\"dataframe\">\n",
       "  <thead>\n",
       "    <tr>\n",
       "      <th></th>\n",
       "      <th colspan=\"3\" halign=\"left\">prices</th>\n",
       "    </tr>\n",
       "    <tr>\n",
       "      <th></th>\n",
       "      <th>mean</th>\n",
       "      <th>min</th>\n",
       "      <th>max</th>\n",
       "    </tr>\n",
       "    <tr>\n",
       "      <th>age_group</th>\n",
       "      <th></th>\n",
       "      <th></th>\n",
       "      <th></th>\n",
       "    </tr>\n",
       "  </thead>\n",
       "  <tbody>\n",
       "    <tr>\n",
       "      <th>Adult</th>\n",
       "      <td>7.786218</td>\n",
       "      <td>1.0</td>\n",
       "      <td>25.0</td>\n",
       "    </tr>\n",
       "    <tr>\n",
       "      <th>Senior</th>\n",
       "      <td>7.794875</td>\n",
       "      <td>1.0</td>\n",
       "      <td>25.0</td>\n",
       "    </tr>\n",
       "    <tr>\n",
       "      <th>Young Adult</th>\n",
       "      <td>7.785975</td>\n",
       "      <td>1.0</td>\n",
       "      <td>25.0</td>\n",
       "    </tr>\n",
       "  </tbody>\n",
       "</table>\n",
       "</div>"
      ],
      "text/plain": [
       "               prices           \n",
       "                 mean  min   max\n",
       "age_group                       \n",
       "Adult        7.786218  1.0  25.0\n",
       "Senior       7.794875  1.0  25.0\n",
       "Young Adult  7.785975  1.0  25.0"
      ]
     },
     "execution_count": 46,
     "metadata": {},
     "output_type": "execute_result"
    }
   ],
   "source": [
    "#aggregating for regional expenditure\n",
    "df4.groupby('age_group').agg({'prices': ['mean', 'min', 'max']})"
   ]
  },
  {
   "cell_type": "code",
   "execution_count": 47,
   "id": "495c7ae9",
   "metadata": {
    "scrolled": true
   },
   "outputs": [
    {
     "data": {
      "text/html": [
       "<div>\n",
       "<style scoped>\n",
       "    .dataframe tbody tr th:only-of-type {\n",
       "        vertical-align: middle;\n",
       "    }\n",
       "\n",
       "    .dataframe tbody tr th {\n",
       "        vertical-align: top;\n",
       "    }\n",
       "\n",
       "    .dataframe thead tr th {\n",
       "        text-align: left;\n",
       "    }\n",
       "\n",
       "    .dataframe thead tr:last-of-type th {\n",
       "        text-align: right;\n",
       "    }\n",
       "</style>\n",
       "<table border=\"1\" class=\"dataframe\">\n",
       "  <thead>\n",
       "    <tr>\n",
       "      <th></th>\n",
       "      <th colspan=\"3\" halign=\"left\">median_of_days_since_prior_order</th>\n",
       "    </tr>\n",
       "    <tr>\n",
       "      <th></th>\n",
       "      <th>mean</th>\n",
       "      <th>min</th>\n",
       "      <th>max</th>\n",
       "    </tr>\n",
       "    <tr>\n",
       "      <th>age_group</th>\n",
       "      <th></th>\n",
       "      <th></th>\n",
       "      <th></th>\n",
       "    </tr>\n",
       "  </thead>\n",
       "  <tbody>\n",
       "    <tr>\n",
       "      <th>Adult</th>\n",
       "      <td>9.977385</td>\n",
       "      <td>0.0</td>\n",
       "      <td>30.0</td>\n",
       "    </tr>\n",
       "    <tr>\n",
       "      <th>Senior</th>\n",
       "      <td>9.934696</td>\n",
       "      <td>0.0</td>\n",
       "      <td>30.0</td>\n",
       "    </tr>\n",
       "    <tr>\n",
       "      <th>Young Adult</th>\n",
       "      <td>9.872464</td>\n",
       "      <td>0.0</td>\n",
       "      <td>30.0</td>\n",
       "    </tr>\n",
       "  </tbody>\n",
       "</table>\n",
       "</div>"
      ],
      "text/plain": [
       "            median_of_days_since_prior_order           \n",
       "                                        mean  min   max\n",
       "age_group                                              \n",
       "Adult                               9.977385  0.0  30.0\n",
       "Senior                              9.934696  0.0  30.0\n",
       "Young Adult                         9.872464  0.0  30.0"
      ]
     },
     "execution_count": 47,
     "metadata": {},
     "output_type": "execute_result"
    }
   ],
   "source": [
    "#aggregating for order frequency\n",
    "df4.groupby('age_group').agg({'median_of_days_since_prior_order': ['mean', 'min', 'max']})"
   ]
  },
  {
   "cell_type": "markdown",
   "id": "136d52d8",
   "metadata": {},
   "source": [
    "## 9. Compare your customer profiles with regions and departments. Can you identify a link between them?"
   ]
  },
  {
   "cell_type": "code",
   "execution_count": 48,
   "id": "195faa0c",
   "metadata": {},
   "outputs": [],
   "source": [
    "# cross checking regions and loyal customers\n",
    "crosstab_region_loyalty = pd.crosstab(df4['region'], df4['loyalty_flag'], dropna = False)"
   ]
  },
  {
   "cell_type": "code",
   "execution_count": 49,
   "id": "cad0325f",
   "metadata": {},
   "outputs": [
    {
     "data": {
      "text/html": [
       "<div>\n",
       "<style scoped>\n",
       "    .dataframe tbody tr th:only-of-type {\n",
       "        vertical-align: middle;\n",
       "    }\n",
       "\n",
       "    .dataframe tbody tr th {\n",
       "        vertical-align: top;\n",
       "    }\n",
       "\n",
       "    .dataframe thead th {\n",
       "        text-align: right;\n",
       "    }\n",
       "</style>\n",
       "<table border=\"1\" class=\"dataframe\">\n",
       "  <thead>\n",
       "    <tr style=\"text-align: right;\">\n",
       "      <th>loyalty_flag</th>\n",
       "      <th>Loyal customer</th>\n",
       "      <th>New customer</th>\n",
       "      <th>Regular customer</th>\n",
       "    </tr>\n",
       "    <tr>\n",
       "      <th>region</th>\n",
       "      <th></th>\n",
       "      <th></th>\n",
       "      <th></th>\n",
       "    </tr>\n",
       "  </thead>\n",
       "  <tbody>\n",
       "    <tr>\n",
       "      <th>Midwest</th>\n",
       "      <td>2369496</td>\n",
       "      <td>1133757</td>\n",
       "      <td>3742697</td>\n",
       "    </tr>\n",
       "    <tr>\n",
       "      <th>Northeast</th>\n",
       "      <td>1838359</td>\n",
       "      <td>840015</td>\n",
       "      <td>2774799</td>\n",
       "    </tr>\n",
       "    <tr>\n",
       "      <th>South</th>\n",
       "      <td>3399840</td>\n",
       "      <td>1589290</td>\n",
       "      <td>5300222</td>\n",
       "    </tr>\n",
       "    <tr>\n",
       "      <th>West</th>\n",
       "      <td>2658048</td>\n",
       "      <td>1227920</td>\n",
       "      <td>4025353</td>\n",
       "    </tr>\n",
       "  </tbody>\n",
       "</table>\n",
       "</div>"
      ],
      "text/plain": [
       "loyalty_flag  Loyal customer  New customer  Regular customer\n",
       "region                                                      \n",
       "Midwest              2369496       1133757           3742697\n",
       "Northeast            1838359        840015           2774799\n",
       "South                3399840       1589290           5300222\n",
       "West                 2658048       1227920           4025353"
      ]
     },
     "execution_count": 49,
     "metadata": {},
     "output_type": "execute_result"
    }
   ],
   "source": [
    "crosstab_region_loyalty"
   ]
  },
  {
   "cell_type": "code",
   "execution_count": 50,
   "id": "5f7b574b",
   "metadata": {},
   "outputs": [
    {
     "data": {
      "text/html": [
       "<div>\n",
       "<style scoped>\n",
       "    .dataframe tbody tr th:only-of-type {\n",
       "        vertical-align: middle;\n",
       "    }\n",
       "\n",
       "    .dataframe tbody tr th {\n",
       "        vertical-align: top;\n",
       "    }\n",
       "\n",
       "    .dataframe thead tr th {\n",
       "        text-align: left;\n",
       "    }\n",
       "\n",
       "    .dataframe thead tr:last-of-type th {\n",
       "        text-align: right;\n",
       "    }\n",
       "</style>\n",
       "<table border=\"1\" class=\"dataframe\">\n",
       "  <thead>\n",
       "    <tr>\n",
       "      <th></th>\n",
       "      <th>median_of_days_since_prior_order</th>\n",
       "    </tr>\n",
       "    <tr>\n",
       "      <th></th>\n",
       "      <th>mean</th>\n",
       "    </tr>\n",
       "    <tr>\n",
       "      <th>loyalty_flag</th>\n",
       "      <th></th>\n",
       "    </tr>\n",
       "  </thead>\n",
       "  <tbody>\n",
       "    <tr>\n",
       "      <th>Loyal customer</th>\n",
       "      <td>5.170693</td>\n",
       "    </tr>\n",
       "    <tr>\n",
       "      <th>New customer</th>\n",
       "      <td>18.048421</td>\n",
       "    </tr>\n",
       "    <tr>\n",
       "      <th>Regular customer</th>\n",
       "      <td>10.615556</td>\n",
       "    </tr>\n",
       "  </tbody>\n",
       "</table>\n",
       "</div>"
      ],
      "text/plain": [
       "                 median_of_days_since_prior_order\n",
       "                                             mean\n",
       "loyalty_flag                                     \n",
       "Loyal customer                           5.170693\n",
       "New customer                            18.048421\n",
       "Regular customer                        10.615556"
      ]
     },
     "execution_count": 50,
     "metadata": {},
     "output_type": "execute_result"
    }
   ],
   "source": [
    "# cross checking if the most loyal customers have less days since prior order\n",
    "cross_median_loyalty = df4.groupby('loyalty_flag').agg({'median_of_days_since_prior_order':['mean']})\n",
    "cross_median_loyalty"
   ]
  },
  {
   "cell_type": "code",
   "execution_count": 51,
   "id": "28971a68",
   "metadata": {
    "scrolled": true
   },
   "outputs": [
    {
     "data": {
      "image/png": "[encoded data removed]",
      "text/plain": [
       "<Figure size 432x288 with 1 Axes>"
      ]
     },
     "metadata": {
      "needs_background": "light"
     },
     "output_type": "display_data"
    }
   ],
   "source": [
    "# histogram of days of week, days are 0-6 which are Sat-Fri\n",
    "hist_dow = df4['orders_day_of_week'].plot.hist(bins=7)"
   ]
  },
  {
   "cell_type": "code",
   "execution_count": 52,
   "id": "50c16b9a",
   "metadata": {},
   "outputs": [
    {
     "data": {
      "image/png": "[encoded data removed]",
      "text/plain": [
       "<Figure size 432x288 with 1 Axes>"
      ]
     },
     "metadata": {
      "needs_background": "light"
     },
     "output_type": "display_data"
    }
   ],
   "source": [
    "hist_hod = df4['order_hour_of_day'].plot.hist(bins=24)"
   ]
  },
  {
   "cell_type": "code",
   "execution_count": 53,
   "id": "3e0b96f8",
   "metadata": {},
   "outputs": [
    {
     "data": {
      "text/html": [
       "<div>\n",
       "<style scoped>\n",
       "    .dataframe tbody tr th:only-of-type {\n",
       "        vertical-align: middle;\n",
       "    }\n",
       "\n",
       "    .dataframe tbody tr th {\n",
       "        vertical-align: top;\n",
       "    }\n",
       "\n",
       "    .dataframe thead tr th {\n",
       "        text-align: left;\n",
       "    }\n",
       "\n",
       "    .dataframe thead tr:last-of-type th {\n",
       "        text-align: right;\n",
       "    }\n",
       "</style>\n",
       "<table border=\"1\" class=\"dataframe\">\n",
       "  <thead>\n",
       "    <tr>\n",
       "      <th></th>\n",
       "      <th>prices</th>\n",
       "    </tr>\n",
       "    <tr>\n",
       "      <th></th>\n",
       "      <th>mean</th>\n",
       "    </tr>\n",
       "    <tr>\n",
       "      <th>orders_day_of_week</th>\n",
       "      <th></th>\n",
       "    </tr>\n",
       "  </thead>\n",
       "  <tbody>\n",
       "    <tr>\n",
       "      <th>0</th>\n",
       "      <td>7.855838</td>\n",
       "    </tr>\n",
       "    <tr>\n",
       "      <th>1</th>\n",
       "      <td>7.756031</td>\n",
       "    </tr>\n",
       "    <tr>\n",
       "      <th>2</th>\n",
       "      <td>7.752872</td>\n",
       "    </tr>\n",
       "    <tr>\n",
       "      <th>3</th>\n",
       "      <td>7.755441</td>\n",
       "    </tr>\n",
       "    <tr>\n",
       "      <th>4</th>\n",
       "      <td>7.755060</td>\n",
       "    </tr>\n",
       "    <tr>\n",
       "      <th>5</th>\n",
       "      <td>7.759508</td>\n",
       "    </tr>\n",
       "    <tr>\n",
       "      <th>6</th>\n",
       "      <td>7.855839</td>\n",
       "    </tr>\n",
       "  </tbody>\n",
       "</table>\n",
       "</div>"
      ],
      "text/plain": [
       "                      prices\n",
       "                        mean\n",
       "orders_day_of_week          \n",
       "0                   7.855838\n",
       "1                   7.756031\n",
       "2                   7.752872\n",
       "3                   7.755441\n",
       "4                   7.755060\n",
       "5                   7.759508\n",
       "6                   7.855839"
      ]
     },
     "execution_count": 53,
     "metadata": {},
     "output_type": "execute_result"
    }
   ],
   "source": [
    "cross_loyalty_dow = df4.groupby('orders_day_of_week').agg({'prices':['mean']})\n",
    "cross_loyalty_dow"
   ]
  },
  {
   "cell_type": "code",
   "execution_count": 54,
   "id": "8e643c2a",
   "metadata": {},
   "outputs": [],
   "source": [
    "# cross checking age groups and pet owners\n",
    "crosstab_age_pets = pd.crosstab(df4['pets'], df4['age_group'], dropna = False)"
   ]
  },
  {
   "cell_type": "code",
   "execution_count": 55,
   "id": "fae3a9df",
   "metadata": {
    "scrolled": false
   },
   "outputs": [
    {
     "data": {
      "text/html": [
       "<div>\n",
       "<style scoped>\n",
       "    .dataframe tbody tr th:only-of-type {\n",
       "        vertical-align: middle;\n",
       "    }\n",
       "\n",
       "    .dataframe tbody tr th {\n",
       "        vertical-align: top;\n",
       "    }\n",
       "\n",
       "    .dataframe thead th {\n",
       "        text-align: right;\n",
       "    }\n",
       "</style>\n",
       "<table border=\"1\" class=\"dataframe\">\n",
       "  <thead>\n",
       "    <tr style=\"text-align: right;\">\n",
       "      <th>age_group</th>\n",
       "      <th>Adult</th>\n",
       "      <th>Senior</th>\n",
       "      <th>Young Adult</th>\n",
       "    </tr>\n",
       "    <tr>\n",
       "      <th>pets</th>\n",
       "      <th></th>\n",
       "      <th></th>\n",
       "      <th></th>\n",
       "    </tr>\n",
       "  </thead>\n",
       "  <tbody>\n",
       "    <tr>\n",
       "      <th>no pets</th>\n",
       "      <td>17704787</td>\n",
       "      <td>7494609</td>\n",
       "      <td>2689266</td>\n",
       "    </tr>\n",
       "    <tr>\n",
       "      <th>pet owner</th>\n",
       "      <td>1608625</td>\n",
       "      <td>684020</td>\n",
       "      <td>241114</td>\n",
       "    </tr>\n",
       "  </tbody>\n",
       "</table>\n",
       "</div>"
      ],
      "text/plain": [
       "age_group     Adult   Senior  Young Adult\n",
       "pets                                     \n",
       "no pets    17704787  7494609      2689266\n",
       "pet owner   1608625   684020       241114"
      ]
     },
     "execution_count": 55,
     "metadata": {},
     "output_type": "execute_result"
    }
   ],
   "source": [
    "crosstab_age_pets"
   ]
  },
  {
   "cell_type": "code",
   "execution_count": 56,
   "id": "31b2d793",
   "metadata": {},
   "outputs": [
    {
     "data": {
      "image/png": "[encoded data removed]",
      "text/plain": [
       "<Figure size 432x288 with 1 Axes>"
      ]
     },
     "metadata": {
      "needs_background": "light"
     },
     "output_type": "display_data"
    }
   ],
   "source": [
    "department_bar=df4['department'].value_counts().sort_values().plot.barh()"
   ]
  },
  {
   "cell_type": "markdown",
   "id": "39e181aa",
   "metadata": {},
   "source": [
    "## 10. Exporting Data"
   ]
  },
  {
   "cell_type": "code",
   "execution_count": 57,
   "id": "7fa03050",
   "metadata": {},
   "outputs": [],
   "source": [
    "age_bar.figure.savefig(os.path.join(path, 'analysis','visualizations', '4.10_age_bar.png'))"
   ]
  },
  {
   "cell_type": "code",
   "execution_count": 58,
   "id": "5105eb59",
   "metadata": {},
   "outputs": [],
   "source": [
    "income_bar.figure.savefig(os.path.join(path, 'analysis','visualizations', '4.10_income_bar.png'))"
   ]
  },
  {
   "cell_type": "code",
   "execution_count": 59,
   "id": "10db77a6",
   "metadata": {},
   "outputs": [],
   "source": [
    "dependant_bar.figure.savefig(os.path.join(path, 'analysis','visualizations', '4.10_dependant_bar.png'))"
   ]
  },
  {
   "cell_type": "code",
   "execution_count": 60,
   "id": "80b9885d",
   "metadata": {},
   "outputs": [],
   "source": [
    "hist_dow.figure.savefig(os.path.join(path, 'analysis','visualizations', '4.10_dow_hist.png'))"
   ]
  },
  {
   "cell_type": "code",
   "execution_count": 61,
   "id": "cc3dfd8b",
   "metadata": {},
   "outputs": [],
   "source": [
    "hist_hod.figure.savefig(os.path.join(path, 'analysis','visualizations', '4.10_hod_hist.png'))"
   ]
  },
  {
   "cell_type": "code",
   "execution_count": 62,
   "id": "07a6d5dd",
   "metadata": {},
   "outputs": [],
   "source": [
    "department_bar.figure.savefig(os.path.join(path, 'analysis','visualizations', '4.10_department_bar.png'))"
   ]
  },
  {
   "cell_type": "code",
   "execution_count": 63,
   "id": "bb6a8651",
   "metadata": {},
   "outputs": [],
   "source": [
    "df4.to_pickle(os.path.join(path, 'data','prepared Data', '4.10_final_combined_data.pkl'))"
   ]
  }
 ],
 "metadata": {
  "kernelspec": {
   "display_name": "Python 3 (ipykernel)",
   "language": "python",
   "name": "python3"
  },
  "language_info": {
   "codemirror_mode": {
    "name": "ipython",
    "version": 3
   },
   "file_extension": ".py",
   "mimetype": "text/x-python",
   "name": "python",
   "nbconvert_exporter": "python",
   "pygments_lexer": "ipython3",
   "version": "3.9.12"
  }
 },
 "nbformat": 4,
 "nbformat_minor": 5
}
