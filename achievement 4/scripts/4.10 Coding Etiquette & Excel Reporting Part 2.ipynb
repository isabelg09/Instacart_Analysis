{
 "cells": [
  {
   "cell_type": "markdown",
   "id": "041c6480",
   "metadata": {},
   "source": [
    "# 4.10 Coding Etiquette & Excel Reporting Part 2"
   ]
  },
  {
   "cell_type": "markdown",
   "id": "99e0126c",
   "metadata": {},
   "source": [
    "## Table of Contents:\n",
    "\n",
    "### 1. Importing Libraries and Data\n",
    "### 2. More Graphs\n",
    "### 3. Exporting Data"
   ]
  },
  {
   "cell_type": "markdown",
   "id": "7d23d4ba",
   "metadata": {},
   "source": [
    "## 1. Importing Libraries and Data"
   ]
  },
  {
   "cell_type": "code",
   "execution_count": 1,
   "id": "ba7142b3",
   "metadata": {},
   "outputs": [],
   "source": [
    "import pandas as pd\n",
    "import numpy as np\n",
    "import os\n",
    "import matplotlib.pyplot as plt\n",
    "import seaborn as sns\n",
    "import scipy"
   ]
  },
  {
   "cell_type": "code",
   "execution_count": 2,
   "id": "b3b6a680",
   "metadata": {},
   "outputs": [],
   "source": [
    "path=r'/Users/isabelgonzalez/Desktop/achievement 4'"
   ]
  },
  {
   "cell_type": "code",
   "execution_count": 3,
   "id": "2d4128bc",
   "metadata": {},
   "outputs": [],
   "source": [
    "df=pd.read_pickle(os.path.join(path, 'data', 'prepared data', 'Final_combined_data.pkl'))"
   ]
  },
  {
   "cell_type": "markdown",
   "id": "ed79d277",
   "metadata": {},
   "source": [
    "## 2. More Graphs"
   ]
  },
  {
   "cell_type": "code",
   "execution_count": 5,
   "id": "8ace2808",
   "metadata": {
    "scrolled": true
   },
   "outputs": [
    {
     "data": {
      "image/png": "[encoded data removed]",
      "text/plain": [
       "<Figure size 432x288 with 1 Axes>"
      ]
     },
     "metadata": {
      "needs_background": "light"
     },
     "output_type": "display_data"
    }
   ],
   "source": [
    "# creating bar chart for price range\n",
    "price_bar=df['price_range'].value_counts().sort_values().plot.barh()"
   ]
  },
  {
   "cell_type": "code",
   "execution_count": 6,
   "id": "52054b80",
   "metadata": {},
   "outputs": [
    {
     "data": {
      "text/html": [
       "<div>\n",
       "<style scoped>\n",
       "    .dataframe tbody tr th:only-of-type {\n",
       "        vertical-align: middle;\n",
       "    }\n",
       "\n",
       "    .dataframe tbody tr th {\n",
       "        vertical-align: top;\n",
       "    }\n",
       "\n",
       "    .dataframe thead tr th {\n",
       "        text-align: left;\n",
       "    }\n",
       "\n",
       "    .dataframe thead tr:last-of-type th {\n",
       "        text-align: right;\n",
       "    }\n",
       "</style>\n",
       "<table border=\"1\" class=\"dataframe\">\n",
       "  <thead>\n",
       "    <tr>\n",
       "      <th></th>\n",
       "      <th>median_of_days_since_prior_order</th>\n",
       "    </tr>\n",
       "    <tr>\n",
       "      <th></th>\n",
       "      <th>mean</th>\n",
       "    </tr>\n",
       "    <tr>\n",
       "      <th>loyalty_flag</th>\n",
       "      <th></th>\n",
       "    </tr>\n",
       "  </thead>\n",
       "  <tbody>\n",
       "    <tr>\n",
       "      <th>Loyal customer</th>\n",
       "      <td>5.170693</td>\n",
       "    </tr>\n",
       "    <tr>\n",
       "      <th>New customer</th>\n",
       "      <td>18.048421</td>\n",
       "    </tr>\n",
       "    <tr>\n",
       "      <th>Regular customer</th>\n",
       "      <td>10.615556</td>\n",
       "    </tr>\n",
       "  </tbody>\n",
       "</table>\n",
       "</div>"
      ],
      "text/plain": [
       "                 median_of_days_since_prior_order\n",
       "                                             mean\n",
       "loyalty_flag                                     \n",
       "Loyal customer                           5.170693\n",
       "New customer                            18.048421\n",
       "Regular customer                        10.615556"
      ]
     },
     "execution_count": 6,
     "metadata": {},
     "output_type": "execute_result"
    }
   ],
   "source": [
    "# cross checking if the most loyal customers have less days since prior order\n",
    "cross_median_loyalty = df.groupby('loyalty_flag').agg({'median_of_days_since_prior_order':['mean']})\n",
    "cross_median_loyalty"
   ]
  },
  {
   "cell_type": "code",
   "execution_count": 7,
   "id": "122b6910",
   "metadata": {},
   "outputs": [
    {
     "data": {
      "image/png": "[encoded data removed]",
      "text/plain": [
       "<Figure size 432x288 with 1 Axes>"
      ]
     },
     "metadata": {
      "needs_background": "light"
     },
     "output_type": "display_data"
    }
   ],
   "source": [
    "# creating bar chart for cross between loyalty flag and median days since last order\n",
    "cross_median=cross_median_loyalty.plot(kind='barh')"
   ]
  },
  {
   "cell_type": "code",
   "execution_count": 8,
   "id": "ec69d9f6",
   "metadata": {
    "scrolled": true
   },
   "outputs": [
    {
     "data": {
      "image/png": "[encoded data removed]",
      "text/plain": [
       "<Figure size 432x288 with 1 Axes>"
      ]
     },
     "metadata": {
      "needs_background": "light"
     },
     "output_type": "display_data"
    }
   ],
   "source": [
    "# creating bar chart for loyalty bar\n",
    "loyalty_bar=df['loyalty_flag'].value_counts().sort_values().plot.barh()"
   ]
  },
  {
   "cell_type": "code",
   "execution_count": 9,
   "id": "0177449e",
   "metadata": {
    "scrolled": true
   },
   "outputs": [
    {
     "data": {
      "image/png": "[encoded data removed]",
      "text/plain": [
       "<Figure size 432x288 with 1 Axes>"
      ]
     },
     "metadata": {},
     "output_type": "display_data"
    }
   ],
   "source": [
    "# creating pie chart for loyalty flag column\n",
    "pieee = df['loyalty_flag'].value_counts()\n",
    "pie_loyalty_customers = pieee.plot.pie(autopct=('%1.0f%%'),\n",
    "                                      wedgeprops={'linewidth': 2, 'edgecolor': 'white'},\n",
    "                                      legend=None, ylabel='', title='Division of customers by loyalty')"
   ]
  },
  {
   "cell_type": "code",
   "execution_count": 14,
   "id": "ed56ee45",
   "metadata": {},
   "outputs": [
    {
     "data": {
      "image/png": "[encoded data removed]",
      "text/plain": [
       "<Figure size 432x288 with 1 Axes>"
      ]
     },
     "metadata": {
      "needs_background": "light"
     },
     "output_type": "display_data"
    }
   ],
   "source": [
    "# creating bar chart for regions\n",
    "region_bar=df['region'].value_counts().plot.bar()"
   ]
  },
  {
   "cell_type": "code",
   "execution_count": 15,
   "id": "c2b5c300",
   "metadata": {},
   "outputs": [
    {
     "data": {
      "image/png": "[encoded data removed]",
      "text/plain": [
       "<Figure size 432x288 with 1 Axes>"
      ]
     },
     "metadata": {
      "needs_background": "light"
     },
     "output_type": "display_data"
    }
   ],
   "source": [
    "# creating bar chart for age groups\n",
    "age_bar=df['age_group'].value_counts().sort_values().plot.barh()"
   ]
  },
  {
   "cell_type": "code",
   "execution_count": 41,
   "id": "a1239b57",
   "metadata": {},
   "outputs": [
    {
     "data": {
      "image/png": "[encoded data removed]",
      "text/plain": [
       "<Figure size 432x288 with 1 Axes>"
      ]
     },
     "metadata": {
      "needs_background": "light"
     },
     "output_type": "display_data"
    }
   ],
   "source": [
    "# creating bar chart for familty status\n",
    "family_status=df['marital_status'].value_counts().sort_values().plot.barh()"
   ]
  },
  {
   "cell_type": "code",
   "execution_count": 63,
   "id": "01bd375e",
   "metadata": {},
   "outputs": [],
   "source": [
    "# creating profiling variables for the Income column\n",
    "#Low income ranges from 0-53,000\n",
    "df.loc[df['income'] < 53000, 'income_class'] = 'Low Income'"
   ]
  },
  {
   "cell_type": "code",
   "execution_count": 64,
   "id": "8c23c5e8",
   "metadata": {},
   "outputs": [],
   "source": [
    "#Middle income ranges from 53,000-110000\n",
    "df.loc[(df['income'] >= 53000) & (df['income'] < 110000), 'income_class'] = 'Middle Income'"
   ]
  },
  {
   "cell_type": "code",
   "execution_count": 65,
   "id": "2f42bd8d",
   "metadata": {},
   "outputs": [],
   "source": [
    "#High income ranges from 110000 and above\n",
    "df.loc[df['income'] >= 110000, 'income_class'] = 'High Income'"
   ]
  },
  {
   "cell_type": "code",
   "execution_count": 66,
   "id": "beb933e6",
   "metadata": {},
   "outputs": [
    {
     "data": {
      "text/plain": [
       "Middle Income    15452164\n",
       "High Income      11546318\n",
       "Low Income        3901314\n",
       "Name: income_class, dtype: int64"
      ]
     },
     "execution_count": 66,
     "metadata": {},
     "output_type": "execute_result"
    }
   ],
   "source": [
    "# checking counts\n",
    "df['income_class'].value_counts()"
   ]
  },
  {
   "cell_type": "code",
   "execution_count": 67,
   "id": "d6561350",
   "metadata": {
    "scrolled": false
   },
   "outputs": [
    {
     "data": {
      "image/png": "[encoded data removed]",
      "text/plain": [
       "<Figure size 432x288 with 1 Axes>"
      ]
     },
     "metadata": {
      "needs_background": "light"
     },
     "output_type": "display_data"
    }
   ],
   "source": [
    "# creating bar chart for income groups\n",
    "income_bar=df['income_class'].value_counts().sort_values().plot.barh()"
   ]
  },
  {
   "cell_type": "code",
   "execution_count": 16,
   "id": "915e627b",
   "metadata": {},
   "outputs": [
    {
     "data": {
      "image/png": "[encoded data removed]",
      "text/plain": [
       "<Figure size 432x288 with 1 Axes>"
      ]
     },
     "metadata": {
      "needs_background": "light"
     },
     "output_type": "display_data"
    }
   ],
   "source": [
    "# creating bar chart for pet owners\n",
    "pets_bar=df['pets'].value_counts().sort_values().plot.barh()"
   ]
  },
  {
   "cell_type": "code",
   "execution_count": 7,
   "id": "aaaf870b",
   "metadata": {
    "scrolled": true
   },
   "outputs": [
    {
     "data": {
      "text/html": [
       "<div>\n",
       "<style scoped>\n",
       "    .dataframe tbody tr th:only-of-type {\n",
       "        vertical-align: middle;\n",
       "    }\n",
       "\n",
       "    .dataframe tbody tr th {\n",
       "        vertical-align: top;\n",
       "    }\n",
       "\n",
       "    .dataframe thead th {\n",
       "        text-align: right;\n",
       "    }\n",
       "</style>\n",
       "<table border=\"1\" class=\"dataframe\">\n",
       "  <thead>\n",
       "    <tr style=\"text-align: right;\">\n",
       "      <th>department</th>\n",
       "      <th>alcohol</th>\n",
       "      <th>babies</th>\n",
       "      <th>bakery</th>\n",
       "      <th>beverages</th>\n",
       "      <th>breakfast</th>\n",
       "      <th>bulk</th>\n",
       "      <th>canned goods</th>\n",
       "      <th>dairy eggs</th>\n",
       "      <th>deli</th>\n",
       "      <th>dry goods pasta</th>\n",
       "      <th>household</th>\n",
       "      <th>international</th>\n",
       "      <th>meat seafood</th>\n",
       "      <th>missing</th>\n",
       "      <th>other</th>\n",
       "      <th>pantry</th>\n",
       "      <th>personal care</th>\n",
       "      <th>pets</th>\n",
       "      <th>produce</th>\n",
       "      <th>snacks</th>\n",
       "    </tr>\n",
       "    <tr>\n",
       "      <th>age_group</th>\n",
       "      <th></th>\n",
       "      <th></th>\n",
       "      <th></th>\n",
       "      <th></th>\n",
       "      <th></th>\n",
       "      <th></th>\n",
       "      <th></th>\n",
       "      <th></th>\n",
       "      <th></th>\n",
       "      <th></th>\n",
       "      <th></th>\n",
       "      <th></th>\n",
       "      <th></th>\n",
       "      <th></th>\n",
       "      <th></th>\n",
       "      <th></th>\n",
       "      <th></th>\n",
       "      <th></th>\n",
       "      <th></th>\n",
       "      <th></th>\n",
       "    </tr>\n",
       "  </thead>\n",
       "  <tbody>\n",
       "    <tr>\n",
       "      <th>Adult</th>\n",
       "      <td>5671841</td>\n",
       "      <td>436208</td>\n",
       "      <td>21542</td>\n",
       "      <td>160182</td>\n",
       "      <td>1113621</td>\n",
       "      <td>513085</td>\n",
       "      <td>420106</td>\n",
       "      <td>632971</td>\n",
       "      <td>1734654</td>\n",
       "      <td>56641</td>\n",
       "      <td>3235958</td>\n",
       "      <td>90457</td>\n",
       "      <td>266720</td>\n",
       "      <td>628663</td>\n",
       "      <td>1323393</td>\n",
       "      <td>418394</td>\n",
       "      <td>20739</td>\n",
       "      <td>1608625</td>\n",
       "      <td>701249</td>\n",
       "      <td>258363</td>\n",
       "    </tr>\n",
       "    <tr>\n",
       "      <th>Senior</th>\n",
       "      <td>2408104</td>\n",
       "      <td>186630</td>\n",
       "      <td>8946</td>\n",
       "      <td>67199</td>\n",
       "      <td>472383</td>\n",
       "      <td>217316</td>\n",
       "      <td>175296</td>\n",
       "      <td>267509</td>\n",
       "      <td>728549</td>\n",
       "      <td>25115</td>\n",
       "      <td>1368072</td>\n",
       "      <td>36693</td>\n",
       "      <td>111052</td>\n",
       "      <td>265199</td>\n",
       "      <td>564250</td>\n",
       "      <td>181150</td>\n",
       "      <td>8945</td>\n",
       "      <td>684020</td>\n",
       "      <td>295997</td>\n",
       "      <td>106204</td>\n",
       "    </tr>\n",
       "    <tr>\n",
       "      <th>Young Adult</th>\n",
       "      <td>860551</td>\n",
       "      <td>65892</td>\n",
       "      <td>3348</td>\n",
       "      <td>24461</td>\n",
       "      <td>169094</td>\n",
       "      <td>78524</td>\n",
       "      <td>64858</td>\n",
       "      <td>96056</td>\n",
       "      <td>260711</td>\n",
       "      <td>10291</td>\n",
       "      <td>493046</td>\n",
       "      <td>14418</td>\n",
       "      <td>39543</td>\n",
       "      <td>94465</td>\n",
       "      <td>201204</td>\n",
       "      <td>64584</td>\n",
       "      <td>3234</td>\n",
       "      <td>241114</td>\n",
       "      <td>105975</td>\n",
       "      <td>39011</td>\n",
       "    </tr>\n",
       "  </tbody>\n",
       "</table>\n",
       "</div>"
      ],
      "text/plain": [
       "department   alcohol  babies  bakery  beverages  breakfast    bulk  \\\n",
       "age_group                                                            \n",
       "Adult        5671841  436208   21542     160182    1113621  513085   \n",
       "Senior       2408104  186630    8946      67199     472383  217316   \n",
       "Young Adult   860551   65892    3348      24461     169094   78524   \n",
       "\n",
       "department   canned goods  dairy eggs     deli  dry goods pasta  household  \\\n",
       "age_group                                                                    \n",
       "Adult              420106      632971  1734654            56641    3235958   \n",
       "Senior             175296      267509   728549            25115    1368072   \n",
       "Young Adult         64858       96056   260711            10291     493046   \n",
       "\n",
       "department   international  meat seafood  missing    other  pantry  \\\n",
       "age_group                                                            \n",
       "Adult                90457        266720   628663  1323393  418394   \n",
       "Senior               36693        111052   265199   564250  181150   \n",
       "Young Adult          14418         39543    94465   201204   64584   \n",
       "\n",
       "department   personal care     pets  produce  snacks  \n",
       "age_group                                             \n",
       "Adult                20739  1608625   701249  258363  \n",
       "Senior                8945   684020   295997  106204  \n",
       "Young Adult           3234   241114   105975   39011  "
      ]
     },
     "execution_count": 7,
     "metadata": {},
     "output_type": "execute_result"
    }
   ],
   "source": [
    "# cross checking age groups and pet owners\n",
    "crosstab_age_dep = pd.crosstab(df['age_group'], df['department'], dropna = False)\n",
    "crosstab_age_dep"
   ]
  },
  {
   "cell_type": "code",
   "execution_count": 24,
   "id": "c9ee8f9d",
   "metadata": {},
   "outputs": [],
   "source": [
    "# copying to clipbopard\n",
    "crosstab_age_dep.to_clipboard()"
   ]
  },
  {
   "cell_type": "code",
   "execution_count": 18,
   "id": "e1443cb6",
   "metadata": {},
   "outputs": [
    {
     "data": {
      "text/html": [
       "<div>\n",
       "<style scoped>\n",
       "    .dataframe tbody tr th:only-of-type {\n",
       "        vertical-align: middle;\n",
       "    }\n",
       "\n",
       "    .dataframe tbody tr th {\n",
       "        vertical-align: top;\n",
       "    }\n",
       "\n",
       "    .dataframe thead th {\n",
       "        text-align: right;\n",
       "    }\n",
       "</style>\n",
       "<table border=\"1\" class=\"dataframe\">\n",
       "  <thead>\n",
       "    <tr style=\"text-align: right;\">\n",
       "      <th>price_range</th>\n",
       "      <th>High-range product</th>\n",
       "      <th>Low-range product</th>\n",
       "      <th>Mid-range product</th>\n",
       "    </tr>\n",
       "    <tr>\n",
       "      <th>income_class</th>\n",
       "      <th></th>\n",
       "      <th></th>\n",
       "      <th></th>\n",
       "    </tr>\n",
       "  </thead>\n",
       "  <tbody>\n",
       "    <tr>\n",
       "      <th>High Income</th>\n",
       "      <td>165833</td>\n",
       "      <td>3435740</td>\n",
       "      <td>7944745</td>\n",
       "    </tr>\n",
       "    <tr>\n",
       "      <th>Low Income</th>\n",
       "      <td>22934</td>\n",
       "      <td>1576071</td>\n",
       "      <td>2302309</td>\n",
       "    </tr>\n",
       "    <tr>\n",
       "      <th>Middle Income</th>\n",
       "      <td>209186</td>\n",
       "      <td>4644513</td>\n",
       "      <td>10598465</td>\n",
       "    </tr>\n",
       "  </tbody>\n",
       "</table>\n",
       "</div>"
      ],
      "text/plain": [
       "price_range    High-range product  Low-range product  Mid-range product\n",
       "income_class                                                           \n",
       "High Income                165833            3435740            7944745\n",
       "Low Income                  22934            1576071            2302309\n",
       "Middle Income              209186            4644513           10598465"
      ]
     },
     "execution_count": 18,
     "metadata": {},
     "output_type": "execute_result"
    }
   ],
   "source": [
    "# makeing crosstab between income class and product ranges\n",
    "income_prices = pd.crosstab(df['income_class'], df['price_range'], dropna = False)\n",
    "income_prices"
   ]
  },
  {
   "cell_type": "code",
   "execution_count": 23,
   "id": "c7ab731a",
   "metadata": {},
   "outputs": [
    {
     "data": {
      "image/png": "[encoded data removed]",
      "text/plain": [
       "<Figure size 432x288 with 1 Axes>"
      ]
     },
     "metadata": {
      "needs_background": "light"
     },
     "output_type": "display_data"
    }
   ],
   "source": [
    "# creating bar chart cross between income class and product ranges\n",
    "income_range_bar=income_prices.plot(kind='barh')"
   ]
  },
  {
   "cell_type": "markdown",
   "id": "b2b7a3cf",
   "metadata": {},
   "source": [
    "## 3. Exporting Data"
   ]
  },
  {
   "cell_type": "code",
   "execution_count": 17,
   "id": "523e2bc7",
   "metadata": {},
   "outputs": [],
   "source": [
    "price_bar.figure.savefig(os.path.join(path, 'analysis','visualizations', '4.10_price_bar.png'))"
   ]
  },
  {
   "cell_type": "code",
   "execution_count": 18,
   "id": "6c031bc7",
   "metadata": {},
   "outputs": [],
   "source": [
    "loyalty_bar.figure.savefig(os.path.join(path, 'analysis','visualizations', '4.10_loyalty_bar.png'))"
   ]
  },
  {
   "cell_type": "code",
   "execution_count": 19,
   "id": "24749698",
   "metadata": {},
   "outputs": [],
   "source": [
    "cross_median.figure.savefig(os.path.join(path, 'analysis','visualizations', '4.10_median_loyalty_bar.png'))"
   ]
  },
  {
   "cell_type": "code",
   "execution_count": 20,
   "id": "2f71a313",
   "metadata": {},
   "outputs": [],
   "source": [
    "pie_loyalty_customers.figure.savefig(os.path.join(path, 'analysis','visualizations', '4.10_loyalty_pie.png'))"
   ]
  },
  {
   "cell_type": "code",
   "execution_count": 21,
   "id": "850c0f2c",
   "metadata": {},
   "outputs": [],
   "source": [
    "region_bar.figure.savefig(os.path.join(path, 'analysis','visualizations', '4.10_region_bar.png'))"
   ]
  },
  {
   "cell_type": "code",
   "execution_count": 22,
   "id": "6605dd91",
   "metadata": {},
   "outputs": [],
   "source": [
    "age_bar.figure.savefig(os.path.join(path, 'analysis','visualizations', '4.10_age_bar.png'))"
   ]
  },
  {
   "cell_type": "code",
   "execution_count": 23,
   "id": "72d2f6c5",
   "metadata": {},
   "outputs": [],
   "source": [
    "family_status.figure.savefig(os.path.join(path, 'analysis','visualizations', '4.10_family_status_bar.png'))"
   ]
  },
  {
   "cell_type": "code",
   "execution_count": 68,
   "id": "c8766d58",
   "metadata": {},
   "outputs": [],
   "source": [
    "income_bar.figure.savefig(os.path.join(path, 'analysis','visualizations', '4.10_income_bar.png'))"
   ]
  },
  {
   "cell_type": "code",
   "execution_count": 17,
   "id": "4bd3cb2b",
   "metadata": {},
   "outputs": [],
   "source": [
    "pets_bar.figure.savefig(os.path.join(path, 'analysis','visualizations', '4.10_pet_bar.png'))"
   ]
  },
  {
   "cell_type": "code",
   "execution_count": 25,
   "id": "cf27ac3a",
   "metadata": {},
   "outputs": [],
   "source": [
    "income_range_bar.figure.savefig(os.path.join(path, 'analysis','visualizations', '4.10_income_price_bar.png'))"
   ]
  },
  {
   "cell_type": "code",
   "execution_count": 71,
   "id": "40620514",
   "metadata": {},
   "outputs": [],
   "source": [
    "df.to_pickle(os.path.join(path, 'data','prepared Data', 'Final_combined_data.pkl'))"
   ]
  }
 ],
 "metadata": {
  "kernelspec": {
   "display_name": "Python 3 (ipykernel)",
   "language": "python",
   "name": "python3"
  },
  "language_info": {
   "codemirror_mode": {
    "name": "ipython",
    "version": 3
   },
   "file_extension": ".py",
   "mimetype": "text/x-python",
   "name": "python",
   "nbconvert_exporter": "python",
   "pygments_lexer": "ipython3",
   "version": "3.9.12"
  }
 },
 "nbformat": 4,
 "nbformat_minor": 5
}
